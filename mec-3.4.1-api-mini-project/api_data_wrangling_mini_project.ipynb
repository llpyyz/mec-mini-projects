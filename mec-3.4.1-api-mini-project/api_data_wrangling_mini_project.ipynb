{
 "cells": [
  {
   "cell_type": "markdown",
   "metadata": {},
   "source": [
    "This exercise will require you to pull some data from https://data.nasdaq.com/ (formerly Quandl API)."
   ]
  },
  {
   "cell_type": "markdown",
   "metadata": {},
   "source": [
    "As a first step, you will need to register a free account on the https://data.nasdaq.com/ website."
   ]
  },
  {
   "cell_type": "markdown",
   "metadata": {},
   "source": [
    "After you register, you will be provided with a unique API key, that you should store:\n",
    "\n",
    "*Note*: Use a `.env` file and put your key in there and `python-dotenv` to access it in this notebook. \n",
    "\n",
    "The code below uses a key that was used when generating this project but has since been deleted. Never submit your keys to source control. There is a `.env-example` file in this repository to illusrtate what you need. Copy that to a file called `.env` and use your own api key in that `.env` file. Make sure you also have a `.gitignore` file with a line for `.env` added to it. \n",
    "\n",
    "The standard Python gitignore is [here](https://github.com/github/gitignore/blob/master/Python.gitignore) you can just copy that. "
   ]
  },
  {
   "cell_type": "code",
   "execution_count": 1,
   "metadata": {},
   "outputs": [],
   "source": [
    "# get api key from your .env file\n",
    "import os\n",
    "from dotenv import load_dotenv  # if missing this module, simply run `pip install python-dotenv`\n",
    "\n",
    "load_dotenv()\n",
    "API_KEY = os.getenv('NASDAQ_API_KEY')"
   ]
  },
  {
   "cell_type": "markdown",
   "metadata": {},
   "source": [
    "Nasdaq Data has a large number of data sources, but, unfortunately, most of them require a Premium subscription. Still, there are also a good number of free datasets."
   ]
  },
  {
   "cell_type": "markdown",
   "metadata": {},
   "source": [
    "For this mini project, we will focus on equities data from the Frankfurt Stock Exhange (FSE), which is available for free. We'll try and analyze the stock prices of a company called Carl Zeiss Meditec, which manufactures tools for eye examinations, as well as medical lasers for laser eye surgery: https://www.zeiss.com/meditec/int/home.html. The company is listed under the stock ticker AFX_X."
   ]
  },
  {
   "cell_type": "markdown",
   "metadata": {},
   "source": [
    "You can find the detailed Nasdaq Data API instructions here: https://docs.data.nasdaq.com/docs/in-depth-usage"
   ]
  },
  {
   "cell_type": "markdown",
   "metadata": {},
   "source": [
    "While there is a dedicated Python package for connecting to the Nasdaq API, we would prefer that you use the *requests* package, which can be easily downloaded using *pip* or *conda*. You can find the documentation for the package here: http://docs.python-requests.org/en/master/ "
   ]
  },
  {
   "cell_type": "markdown",
   "metadata": {},
   "source": [
    "Finally, apart from the *requests* package, you are encouraged to not use any third party Python packages, such as *pandas*, and instead focus on what's available in the Python Standard Library (the *collections* module might come in handy: https://pymotw.com/3/collections/).\n",
    "Also, since you won't have access to DataFrames, you are encouraged to us Python's native data structures - preferably dictionaries, though some questions can also be answered using lists.\n",
    "You can read more on these data structures here: https://docs.python.org/3/tutorial/datastructures.html"
   ]
  },
  {
   "cell_type": "markdown",
   "metadata": {},
   "source": [
    "Keep in mind that the JSON responses you will be getting from the API map almost one-to-one to Python's dictionaries. Unfortunately, they can be very nested, so make sure you read up on indexing dictionaries in the documentation provided above."
   ]
  },
  {
   "cell_type": "code",
   "execution_count": 38,
   "metadata": {},
   "outputs": [],
   "source": [
    "# First, import the relevant modules\n",
    "import requests\n",
    "import json\n",
    "import os\n",
    "import statistics"
   ]
  },
  {
   "cell_type": "markdown",
   "metadata": {},
   "source": [
    "Note: API's can change a bit with each version, for this exercise it is reccomended to use the nasdaq api at `https://data.nasdaq.com/api/v3/`. This is the same api as what used to be quandl so `https://www.quandl.com/api/v3/` should work too.\n",
    "\n",
    "Hint: We are looking for the `AFX_X` data on the `datasets/FSE/` dataset."
   ]
  },
  {
   "cell_type": "code",
   "execution_count": 49,
   "metadata": {},
   "outputs": [],
   "source": [
    "# Now, call the Nasdaq API and pull out a small sample of the data (only one day) to get a glimpse\n",
    "# into the JSON structure that will be returned\n",
    "\n",
    "base_nasdaq_url = f'https://data.nasdaq.com/api/v3/datasets/'\n",
    "database_code = 'FSE/'\n",
    "dataset_code = 'AFX_X/'\n",
    "return_format = 'json'\n",
    "start_date='2020-12-01'\n",
    "end_date='2020-12-01'\n",
    "\n",
    "# grab one day of data\n",
    "url = f'{base_nasdaq_url}{database_code}{dataset_code}data.{return_format}?start_date={start_date}&end_date={end_date}&api_key={API_KEY}'\n",
    "response = requests.get(url)"
   ]
  },
  {
   "cell_type": "code",
   "execution_count": 50,
   "metadata": {},
   "outputs": [
    {
     "name": "stdout",
     "output_type": "stream",
     "text": [
      "{'dataset_data': {'limit': None, 'transform': None, 'column_index': None, 'column_names': ['Date', 'Open', 'High', 'Low', 'Close', 'Change', 'Traded Volume', 'Turnover', 'Last Price of the Day', 'Daily Traded Units', 'Daily Turnover'], 'start_date': '2020-12-01', 'end_date': '2020-12-01', 'frequency': 'daily', 'data': [['2020-12-01', 112.2, 112.2, 111.5, 112.0, None, 51.0, 5703.0, None, None, None]], 'collapse': None, 'order': None}}\n"
     ]
    }
   ],
   "source": [
    "# Inspect the JSON structure of the object you created, and take note of how nested it is,\n",
    "# as well as the overall structure\n",
    "response_json = response.json()\n",
    "column_names =  response_json[\"dataset_data\"][\"column_names\"]\n",
    "column_names = [name.lower() for name in column_names]\n",
    "open_index = column_names.index('open')\n",
    "close_index = column_names.index('close')\n",
    "high_index = column_names.index('high')\n",
    "low_index = column_names.index('low')\n",
    "change_index = column_names.index('change')\n",
    "traded_volume_index = column_names.index('traded volume')"
   ]
  },
  {
   "cell_type": "markdown",
   "metadata": {},
   "source": [
    "These are your tasks for this mini project:\n",
    "\n",
    "1. Collect data from the Franfurt Stock Exchange, for the ticker AFX_X, for the whole year 2017 (keep in mind that the date format is YYYY-MM-DD).\n",
    "2. Convert the returned JSON object into a Python dictionary.\n",
    "3. Calculate what the highest and lowest opening prices were for the stock in this period.\n",
    "4. What was the largest change in any one day (based on High and Low price)?\n",
    "5. What was the largest change between any two days (based on Closing Price)?\n",
    "6. What was the average daily trading volume during this year?\n",
    "7. (Optional) What was the median trading volume during this year. (Note: you may need to implement your own function for calculating the median.)"
   ]
  },
  {
   "cell_type": "markdown",
   "metadata": {},
   "source": [
    "### 1. Collect data from the Franfurt Stock Exchange, for the ticker AFX_X, for the whole year 2017 (keep in mind that the date format is YYYY-MM-DD)."
   ]
  },
  {
   "cell_type": "code",
   "execution_count": 51,
   "metadata": {},
   "outputs": [],
   "source": [
    "start_date='2017-01-01'\n",
    "end_date='2017-12-31'\n",
    "url = f'{base_nasdaq_url}{database_code}{dataset_code}data.{return_format}?start_date={start_date}&end_date={end_date}&api_key={API_KEY}'\n",
    "response = requests.get(url)"
   ]
  },
  {
   "cell_type": "markdown",
   "metadata": {},
   "source": [
    "### 2. Convert the returned JSON object into a Python dictionary."
   ]
  },
  {
   "cell_type": "code",
   "execution_count": 52,
   "metadata": {},
   "outputs": [],
   "source": [
    "response_json = response.json()"
   ]
  },
  {
   "cell_type": "markdown",
   "metadata": {},
   "source": [
    "### 3. Calculate the highest and lowest opening prices for the stock in this period."
   ]
  },
  {
   "cell_type": "code",
   "execution_count": 53,
   "metadata": {},
   "outputs": [
    {
     "name": "stdout",
     "output_type": "stream",
     "text": [
      "\n",
      " High opening price of AFX_X in 2017: 53.110\n",
      " Low opening price of AFX_X in 2017: 34.000\n",
      "\n"
     ]
    }
   ],
   "source": [
    "data = response_json['dataset_data']['data']\n",
    "max_open = max([daily_data[open_index] for daily_data in data if daily_data[open_index]])\n",
    "min_open = min([daily_data[open_index] for daily_data in data if daily_data[open_index]])\n",
    "print(f'\\n High opening price of AFX_X in 2017: {max_open:0.3f}\\n Low opening price of AFX_X in 2017: {min_open:0.3f}\\n' )\n"
   ]
  },
  {
   "cell_type": "markdown",
   "metadata": {},
   "source": [
    "### 4. What was the largest change in any one day (based on High and Low price)?"
   ]
  },
  {
   "cell_type": "code",
   "execution_count": 54,
   "metadata": {},
   "outputs": [
    {
     "name": "stdout",
     "output_type": "stream",
     "text": [
      "\n",
      " Largest single day change for AFX_X in 2017: 2.810\n",
      "\n"
     ]
    }
   ],
   "source": [
    "max_single_day_change = max([daily_data[high_index] - daily_data[low_index] for daily_data in data\\\n",
    "                                              if (daily_data[high_index] and daily_data[low_index])])\n",
    "print(f'\\n Largest single day change for AFX_X in 2017: {max_single_day_change:0.3f}\\n')"
   ]
  },
  {
   "cell_type": "markdown",
   "metadata": {},
   "source": [
    "### 5. What was the largest change between any two days (based on Closing Price)?"
   ]
  },
  {
   "cell_type": "code",
   "execution_count": 55,
   "metadata": {},
   "outputs": [
    {
     "name": "stdout",
     "output_type": "stream",
     "text": [
      "\n",
      " Largest change in closing price between any two consecutive days of AFX_X in 2017: 2.560 \n",
      "\n"
     ]
    }
   ],
   "source": [
    "consecutive_day_changes = [data[i + 1][close_index] - data[i][close_index]  for i in range(len(data) - 1)\\\n",
    "                                              if (data[i + 1][close_index] and data[i][close_index])]\n",
    "max_drop = min(consecutive_day_changes)\n",
    "max_jump = max(consecutive_day_changes)\n",
    "max_change = max_jump\n",
    "if abs(max_drop) > max_jump:\n",
    "    max_change = max_drop\n",
    "\n",
    "print(f'\\n Largest change in closing price between any two consecutive days of AFX_X in 2017: {max_change:0.3f} \\n')"
   ]
  },
  {
   "cell_type": "markdown",
   "metadata": {},
   "source": [
    "### 6. What was the average daily trading volume during this year?"
   ]
  },
  {
   "cell_type": "code",
   "execution_count": 56,
   "metadata": {},
   "outputs": [
    {
     "name": "stdout",
     "output_type": "stream",
     "text": [
      "\n",
      " Average daily trading volume of AFX_X during 2017: 89124.3\n",
      "\n"
     ]
    }
   ],
   "source": [
    "average_daily_reading_volume = statistics.mean([daily_data[traded_volume_index] for\\\n",
    "                                                daily_data in data if daily_data[traded_volume_index]])\n",
    "print(f'\\n Average daily trading volume of AFX_X during 2017: {average_daily_reading_volume:0.1f}\\n')"
   ]
  },
  {
   "cell_type": "markdown",
   "metadata": {},
   "source": [
    "### 7a. (Optional) What was the median trading volume during this year. (Note: you may need to implement your own function for calculating the median.)"
   ]
  },
  {
   "cell_type": "code",
   "execution_count": 57,
   "metadata": {},
   "outputs": [
    {
     "name": "stdout",
     "output_type": "stream",
     "text": [
      "\n",
      " Median daily trading volume of AFX_X during 2017: 76286.0\n",
      "\n"
     ]
    }
   ],
   "source": [
    "median_daily_reading_volume = statistics.median([daily_data[traded_volume_index] for\\\n",
    "                                                daily_data in data if daily_data[traded_volume_index]])\n",
    "print(f'\\n Median daily trading volume of AFX_X during 2017: {median_daily_reading_volume:0.1f}\\n')"
   ]
  },
  {
   "cell_type": "markdown",
   "metadata": {},
   "source": [
    "### 7b. Alternate implementation"
   ]
  },
  {
   "cell_type": "code",
   "execution_count": 58,
   "metadata": {},
   "outputs": [
    {
     "name": "stdout",
     "output_type": "stream",
     "text": [
      "\n",
      " Median daily trading volume of AFX_X during 2017: 76286.0\n",
      "\n"
     ]
    }
   ],
   "source": [
    "def median(lst = []):\n",
    "    if not lst or not len(lst):\n",
    "        return None\n",
    "    \n",
    "    list_len = len(lst)\n",
    "    if list_len % 2 == 1:\n",
    "        idx = list_len // 2\n",
    "        median = lst[idx]\n",
    "    else:\n",
    "        high_idx = list_len // 2\n",
    "        low_idx = high_idx - 1\n",
    "        median = (lst[high_idx] + lst[low_idx])/2.\n",
    "    return median\n",
    "\n",
    "daily_trading_volumes = [daily_data[traded_volume_index] for\\\n",
    "                                                daily_data in data\\\n",
    "                         if daily_data[traded_volume_index]]\n",
    "daily_trading_volumes.sort()\n",
    "median_daily_reading_volume = median(daily_trading_volumes)\n",
    "print(f'\\n Median daily trading volume of AFX_X during 2017: {median_daily_reading_volume:0.1f}\\n')"
   ]
  }
 ],
 "metadata": {
  "interpreter": {
   "hash": "4885f37acae9217c235118400878352aafa7b76e66df698a1f601374f86939a7"
  },
  "kernelspec": {
   "display_name": "Python (MEC Mini-Projects)",
   "language": "python",
   "name": "mec-miniprojects"
  },
  "language_info": {
   "codemirror_mode": {
    "name": "ipython",
    "version": 3
   },
   "file_extension": ".py",
   "mimetype": "text/x-python",
   "name": "python",
   "nbconvert_exporter": "python",
   "pygments_lexer": "ipython3",
   "version": "3.7.11"
  }
 },
 "nbformat": 4,
 "nbformat_minor": 4
}
